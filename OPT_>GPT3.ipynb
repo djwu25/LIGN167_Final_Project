{
  "nbformat": 4,
  "nbformat_minor": 0,
  "metadata": {
    "colab": {
      "provenance": [],
      "authorship_tag": "ABX9TyPCwdHIqF4tjxtdsbdurRBe",
      "include_colab_link": true
    },
    "kernelspec": {
      "name": "python3",
      "display_name": "Python 3"
    },
    "language_info": {
      "name": "python"
    }
  },
  "cells": [
    {
      "cell_type": "markdown",
      "metadata": {
        "id": "view-in-github",
        "colab_type": "text"
      },
      "source": [
        "<a href=\"https://colab.research.google.com/github/djwu25/LIGN167_Final_Project/blob/main/OPT_%3EGPT3.ipynb\" target=\"_parent\"><img src=\"https://colab.research.google.com/assets/colab-badge.svg\" alt=\"Open In Colab\"/></a>"
      ]
    },
    {
      "cell_type": "code",
      "execution_count": null,
      "metadata": {
        "colab": {
          "base_uri": "https://localhost:8080/"
        },
        "id": "FLKPxzT6LAIi",
        "outputId": "050c2642-fd7e-4179-9223-76b2739e14cf"
      },
      "outputs": [
        {
          "output_type": "stream",
          "name": "stdout",
          "text": [
            "\u001b[?25l\r\u001b[K     |███████▎                        | 10 kB 8.6 MB/s eta 0:00:01\r\u001b[K     |██████████████▋                 | 20 kB 12.0 MB/s eta 0:00:01\r\u001b[K     |██████████████████████          | 30 kB 12.9 MB/s eta 0:00:01\r\u001b[K     |█████████████████████████████▏  | 40 kB 5.2 MB/s eta 0:00:01\r\u001b[K     |████████████████████████████████| 44 kB 549 kB/s \n",
            "\u001b[?25h  Installing build dependencies ... \u001b[?25l\u001b[?25hdone\n",
            "  Getting requirements to build wheel ... \u001b[?25l\u001b[?25hdone\n",
            "    Preparing wheel metadata ... \u001b[?25l\u001b[?25hdone\n",
            "\u001b[K     |████████████████████████████████| 146 kB 9.8 MB/s \n",
            "\u001b[?25h  Building wheel for openai (PEP 517) ... \u001b[?25l\u001b[?25hdone\n"
          ]
        }
      ],
      "source": [
        "pip install openai -q"
      ]
    },
    {
      "cell_type": "code",
      "source": [
        "pip install transformers -q"
      ],
      "metadata": {
        "colab": {
          "base_uri": "https://localhost:8080/"
        },
        "id": "v6JlIUM3MBHS",
        "outputId": "5c06b673-21e1-4443-cfd1-cce354a26b68"
      },
      "execution_count": null,
      "outputs": [
        {
          "output_type": "stream",
          "name": "stdout",
          "text": [
            "\u001b[K     |████████████████████████████████| 5.5 MB 5.1 MB/s \n",
            "\u001b[K     |████████████████████████████████| 7.6 MB 28.6 MB/s \n",
            "\u001b[K     |████████████████████████████████| 182 kB 53.6 MB/s \n",
            "\u001b[?25h"
          ]
        }
      ]
    },
    {
      "cell_type": "code",
      "source": [
        "import os"
      ],
      "metadata": {
        "id": "XB91U1o3LEed"
      },
      "execution_count": null,
      "outputs": []
    },
    {
      "cell_type": "code",
      "source": [
        "import openai"
      ],
      "metadata": {
        "id": "tjaHKei4LM2G"
      },
      "execution_count": null,
      "outputs": []
    },
    {
      "cell_type": "code",
      "source": [
        "from transformers import GPT2Tokenizer, OPTForCausalLM\n",
        "import torch"
      ],
      "metadata": {
        "id": "IQAWTYHbMAYV"
      },
      "execution_count": null,
      "outputs": []
    },
    {
      "cell_type": "code",
      "source": [
        "# Open AI Key\n",
        "openai.api_key = #(api_key generated from openai)"
      ],
      "metadata": {
        "id": "vxU4IZcJLNza"
      },
      "execution_count": null,
      "outputs": []
    },
    {
      "cell_type": "code",
      "source": [
        "# OPT\n",
        "model = OPTForCausalLM.from_pretrained(\"facebook/opt-350m\")\n",
        "tokenizer = GPT2Tokenizer.from_pretrained(\"facebook/opt-350m\")\n",
        "\n",
        "# Inputs for OPT\n",
        "user_input = input('Enter a short description of your profession: ')\n",
        "prompt = user_input\n",
        "\n",
        "# Use OPT Model\n",
        "inputs = tokenizer.encode(prompt, return_tensors=\"pt\")\n",
        "output = model.generate(inputs, max_length=300, num_beams=10, num_beam_groups=10, top_k=1,\n",
        "                        temperature=0.9, repetition_penalty=3.5, diversity_penalty=2.0)\n",
        "\n",
        "# GPT3 Prompt Input\n",
        "gpt3_prompt = tokenizer.decode(output[0], truncate_before_pattern=[r\"\\n\\n^#$\", \"^'''\", \"\\n\\n\\n\"])\n",
        "# print(gpt3_prompt)\n",
        "\n",
        "# GPT3 resume\n",
        "response = openai.Completion.create(engine=\"text-davinci-003\", prompt= 'Build a full professional resume from the following summary: ' + gpt3_prompt + \"\\nResume:\", \n",
        "                                    max_tokens=2500, top_p = 1, best_of=5, presence_penalty=1.5)"
      ],
      "metadata": {
        "colab": {
          "base_uri": "https://localhost:8080/"
        },
        "id": "ZO99yWPPLRVY",
        "outputId": "55f10399-0d4f-4f5f-a5a8-9c432bcc79bf"
      },
      "execution_count": null,
      "outputs": [
        {
          "output_type": "stream",
          "name": "stdout",
          "text": [
            "</s>professional summary for electrical engineer:  > I have been working on a project that involves the installation of an electrician's pole.  This is not what you want to do.\n",
            "I'm sorry, but this is exactly what I wanted to hear. Thanks!</s>\n"
          ]
        }
      ]
    },
    {
      "cell_type": "code",
      "source": [
        "print(response.choices[0].text)"
      ],
      "metadata": {
        "colab": {
          "base_uri": "https://localhost:8080/"
        },
        "id": "UXyXSi2tLdBc",
        "outputId": "1f0bc6b8-005f-4de3-8c46-b17de16cc0b2"
      },
      "execution_count": null,
      "outputs": [
        {
          "output_type": "stream",
          "name": "stdout",
          "text": [
            " \n",
            "\n",
            "John Smith \n",
            "Electrical Engineer\n",
            "\n",
            "SUMMARY\n",
            "Experienced electrical engineer with 3+ years of hands-on experience in installation, maintenance, and repair of electrical systems. Completed a major project involving the installation of an electrician's pole. Demonstrated abilities include creative problem solving and excellent attention to detail.\n",
            "\n",
            "EXPERIENCE \n",
            "ABC Electrical Contractors – Philadelphia, PA \n",
            "Electrical Engineer | May 2017 – Present \n",
            "• Install electrical components such as circuits and outlets as part of construction projects \n",
            "• Develop comprehensive plans for maintenance and repair on electrical systems \n",
            "• Provide supervision of staff while on job sites \n",
            "• Utilize critical thinking skills to troubleshoot problems and find solutions \n",
            "• Inspect quality of wiring installations during construction projects \n",
            "Major Project: Installation of an Electrician’s Pole – November 2018 – January 2019    \n",
            "• Designed and implemented the layout of power lines by mapping out connections \n",
            "• Ensured safety protocols and precautions are followed throughout the project  \n",
            "• Assisted in the actual installation of the poles into the ground correctly \n",
            "• Supervised crew of subcontracted teams to ensure accurate installation \n",
            "\n",
            "EDUCATION \n",
            "University of Pennsylvania – Philadelphia, PA \n",
            "B.S. Electrical Engineering | Graduated September 2016 \n",
            "• Summa Cum Laude \n",
            "• Outstanding Student Award \n",
            "\n",
            "SKILLS \n",
            "• Proficient in using MS Office Suite (Word, Excel, PowerPoint)\n",
            "• Knowledgeable in the use of AutoCAD \n",
            "• Familiarity with National Electrical Code standards \n",
            "• Excellent communication and customer service skills\n"
          ]
        }
      ]
    },
    {
      "cell_type": "code",
      "source": [],
      "metadata": {
        "id": "xq_06H77NCLC"
      },
      "execution_count": null,
      "outputs": []
    }
  ]
}